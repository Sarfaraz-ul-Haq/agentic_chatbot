{
  "cells": [
    {
      "cell_type": "code",
      "execution_count": null,
      "metadata": {
        "vscode": {
          "languageId": "plaintext"
        },
        "id": "eyQKeEtNe8S-"
      },
      "outputs": [],
      "source": [
        "%%capture --no-stderr\n",
        "%pip install langgraph langchain-google-genai langchain-community langchain-core tavily-python"
      ]
    },
    {
      "cell_type": "code",
      "source": [
        "import os\n",
        "from google.colab import userdata\n",
        "from langchain_google_genai import ChatGoogleGenerativeAI\n",
        "\n",
        "os.environ[\"GEMINI_API_KEY\"] = userdata.get(\"GEMINI_API_KEY\")\n",
        "os.environ[\"TAVILY_API_KEY\"] = userdata.get(\"TAVILY_API_KEY\")\n",
        "os.environ[\"LANGCHAIN_API_KEY\"] = userdata.get(\"LANGCHAIN_API_KEY\")\n",
        "os.environ[\"LANGCHAIN_TRACING_V2\"] = \"true\"\n",
        "os.environ[\"LANGCHAIN_PROJECT\"] = \"learn_agentic_ai\""
      ],
      "metadata": {
        "id": "jvZG8D6ffACl"
      },
      "execution_count": null,
      "outputs": []
    },
    {
      "cell_type": "code",
      "source": [
        "from langgraph.checkpoint.memory import MemorySaver\n",
        "from langgraph.graph.message import add_messages\n",
        "from pydantic import BaseModel, Field\n",
        "from langgraph.types import Command\n",
        "from langgraph.graph import StateGraph, START, END\n",
        "from langchain_core.messages import AIMessage, HumanMessage, SystemMessage, AnyMessage\n",
        "from langchain.prompts import ChatPromptTemplate\n",
        "from langchain_core.tools import tool\n",
        "from langgraph.prebuilt import ToolNode, tools_condition\n",
        "from langchain_community.tools.tavily_search import TavilySearchResults\n",
        "from typing import Annotated, List, Literal\n",
        "from typing_extensions import TypedDict\n",
        "from IPython.display import Image, display\n",
        "from langchain_google_genai import ChatGoogleGenerativeAI\n",
        "import os\n",
        "from openpyxl import Workbook, load_workbook\n",
        "from datetime import datetime\n",
        "\n",
        "memory = MemorySaver()\n",
        "\n",
        "class State(TypedDict):\n",
        "    query: str\n",
        "    messages: Annotated[List[AnyMessage], add_messages]\n",
        "    category: str\n",
        "    sentiment: str\n",
        "    human_feedback: str\n",
        "\n",
        "@tool\n",
        "def get_order_update(order_id: int) -> State:\n",
        "    \"\"\"Provided update on a customer's order based on order id\n",
        "    \"\"\"\n",
        "    return \"Your order ID is {order_id} - shipped.\"\n",
        "\n",
        "@tool\n",
        "def get_product_information(order_id: int) -> State:\n",
        "    \"\"\"Provides information about a product based on the order_id\n",
        "    \"\"\"\n",
        "    return \"This product is a top-selling item with excellent reviews.\"\n",
        "\n",
        "@tool\n",
        "def submit_complaint(user_id: int, complaint: str) -> str:\n",
        "    \"\"\"\n",
        "    Records a user complaint into an Excel file.\n",
        "    \"\"\"\n",
        "    file_path = 'user_complaints.xlsx'\n",
        "    timestamp = datetime.now().strftime('%Y-%m-%d %H:%M:%S')\n",
        "\n",
        "    if os.path.exists(file_path):\n",
        "        # Load the existing workbook and select the active worksheet\n",
        "        workbook = load_workbook(file_path)\n",
        "        sheet = workbook.active\n",
        "    else:\n",
        "        # Create a new workbook and worksheet with headers\n",
        "        workbook = Workbook()\n",
        "        sheet = workbook.active\n",
        "        sheet.append(['Timestamp', 'User ID', 'Complaint'])\n",
        "\n",
        "    # Append the new complaint data\n",
        "    sheet.append([timestamp, user_id, complaint])\n",
        "\n",
        "    # Save the workbook\n",
        "    workbook.save(file_path)\n",
        "\n",
        "    return f\"Your complaint has been recorded. Reference number: {sheet.max_row - 1}\"\n",
        "\n",
        "\n",
        "tools = [\n",
        "    get_order_update,\n",
        "    get_product_information,\n",
        "    submit_complaint\n",
        "]\n",
        "\n",
        "llm: ChatGoogleGenerativeAI = ChatGoogleGenerativeAI(api_key=os.environ[\"GEMINI_API_KEY\"], model=\"gemini-2.0-flash-exp\", temperature=0.3)\n",
        "\n",
        "llm_with_tools = llm.bind_tools(tools)"
      ],
      "metadata": {
        "id": "Xll5_OohfCU6"
      },
      "execution_count": null,
      "outputs": []
    },
    {
      "cell_type": "code",
      "source": [
        "def categorize_and_analyze_sentiment(state: State) -> Command[Literal[\"assistant\", \"escalate\"]]:\n",
        "    \"\"\"\n",
        "    Determines the category and sentiment of the customer query.\n",
        "\n",
        "    Categories:\n",
        "    - Order Issues\n",
        "    - Delivery Status\n",
        "    - Product Information\n",
        "    - Feedback\n",
        "    - Complaints\n",
        "    - General\n",
        "\n",
        "    Sentiments:\n",
        "    - Positive\n",
        "    - Neutral\n",
        "    - Negative\n",
        "    \"\"\"\n",
        "    print(\"categorize_and_analyze_sentiment node is working\")\n",
        "\n",
        "    class CategorizeAndSentimentOutput(BaseModel):\n",
        "        category: str = Field(description=\"Predefined category of the query. Options: Order Issues, Delivery Status, Product Information, Feedback, Complaints, General.\")\n",
        "        sentiment: str = Field(description=\"The sentiment of the query: Positive, Neutral, or Negative\")\n",
        "\n",
        "    structured_llm = llm_with_tools.with_structured_output(CategorizeAndSentimentOutput)\n",
        "\n",
        "    prompt = ChatPromptTemplate.from_template(\n",
        "        \"\"\"Categorize the following customer query into one of these categories:\n",
        "        - Order Issues\n",
        "        - Delivery Status\n",
        "        - Product Information\n",
        "        - Feedback\n",
        "        - Complaints\n",
        "        - General\n",
        "\n",
        "        Analyze the sentiment as Positive, Neutral, or Negative.\n",
        "\n",
        "        The user message is: {query}\n",
        "        \"\"\"\n",
        "    )\n",
        "    output = structured_llm.invoke(prompt.format(query=state[\"messages\"][-1]))\n",
        "\n",
        "    goto = \"escalate\" if output.sentiment == \"Negative\" else \"assistant\"\n",
        "\n",
        "    return Command (\n",
        "        update={\"category\": output.category, \"sentiment\": output.sentiment},\n",
        "        goto=goto\n",
        "    )\n",
        "\n",
        "def assistant(state: State) -> State:\n",
        "    system_msg = f\"\"\"\n",
        "    You are a friendly and helpful customer support assistant.\n",
        "    You are here to assist customers with their inquiries and resolve their issues efficiently and effectively.\n",
        "\n",
        "    Based on the query, use the avaiable tools or\n",
        "    generate a response directly.\n",
        "\n",
        "    Available tools:\n",
        "    - get_order_update: Retrieves the latest update on a customer's order.\n",
        "    - submit_complaint: Records a user complaint into the system.\n",
        "    - get_product_information: Provides information about a specific product.\n",
        "\n",
        "    Important: If the user's query is off-topic or unrelated to customer support, politely guide them back to the main topic by saying something like: \"I understand your concern, but I'm here to help with customer support related questions. Could you please rephrase your query or ask a question related to our products or services?\n",
        "    \"\"\"\n",
        "\n",
        "    user = f\"\"\"\n",
        "    The message history is: {state[\"messages\"]}\n",
        "    The customer's query is categorized as: {state[\"category\"]}\n",
        "    The sentiment of the query is: {state[\"sentiment\"]}\"\"\"\n",
        "\n",
        "    response = llm_with_tools.invoke([SystemMessage(content=system_msg), HumanMessage(content=user)])\n",
        "\n",
        "    return {\"messages\": response}\n",
        "\n",
        "\n",
        "def escalate(state: State) -> Command[Literal[END]]:\n",
        "    \"\"\"\n",
        "    Escalates the query to a human agent when the sentiment is negative.\n",
        "    \"\"\"\n",
        "    return Command(\n",
        "        update={\"human_feedback\": \"Escalated to human agent due to negative sentiment.\"},\n",
        "        goto=END\n",
        "    )"
      ],
      "metadata": {
        "id": "O0lvEh6-o-bA"
      },
      "execution_count": null,
      "outputs": []
    },
    {
      "cell_type": "code",
      "source": [
        "  graph_builder = StateGraph(State)\n",
        "\n",
        "  graph_builder.add_node(\"categorize_and_analyze_sentiment\", categorize_and_analyze_sentiment)\n",
        "  graph_builder.add_node(\"assistant\", assistant)\n",
        "  graph_builder.add_node(\"tools\", ToolNode(tools))\n",
        "  graph_builder.add_node(\"escalate\", escalate)\n",
        "\n",
        "  graph_builder.add_edge(START, \"categorize_and_analyze_sentiment\")\n",
        "  graph_builder.add_conditional_edges(\"assistant\", tools_condition)\n",
        "  graph_builder.add_edge(\"tools\", \"assistant\")\n",
        "\n",
        "  graph = graph_builder.compile(checkpointer=memory)\n",
        "\n",
        "  display(Image(graph.get_graph().draw_mermaid_png()))"
      ],
      "metadata": {
        "id": "Fo_1Dwq2oKv5",
        "outputId": "f4702594-a6d8-4aed-e4b4-8fc6739b73f7",
        "colab": {
          "base_uri": "https://localhost:8080/",
          "height": 365
        }
      },
      "execution_count": null,
      "outputs": [
        {
          "output_type": "display_data",
          "data": {
            "image/png": "[encoded data removed]",
            "text/plain": [
              "<IPython.core.display.Image object>"
            ]
          },
          "metadata": {}
        }
      ]
    },
    {
      "cell_type": "code",
      "source": [
        "config = {\"configurable\": {\"thread_id\": 1}}\n",
        "\n",
        "def stream_graph_updates(user_input: str):\n",
        "    for event in graph.stream({\"messages\": user_input}, config):\n",
        "        for node_name, value in event.items():\n",
        "            if node_name == \"assistant\":\n",
        "                print(\"Assistant:\", value[\"messages\"].content)\n",
        "            elif node_name == \"escalate\":\n",
        "                print(\"Escalation:\", value[\"human_feedback\"])\n",
        "            elif node_name == \"categorize_and_analyze_sentiment\":\n",
        "                print(\"Category:\", value[\"category\"])\n",
        "                print(\"Sentiment:\", value[\"sentiment\"])\n",
        "            else:\n",
        "                print(\"ToolNode message:\", value)\n",
        "\n",
        "\n",
        "while True:\n",
        "    user_input = input(\"User: \")\n",
        "    if user_input.lower() in [\"quit\", \"exit\", \"q\"]:\n",
        "        print(\"Goodbye!\")\n",
        "        break\n",
        "\n",
        "    stream_graph_updates(user_input)"
      ],
      "metadata": {
        "id": "jBH49G4doNQO",
        "outputId": "dc76e51b-2c32-4d54-a48e-35021b73fd93",
        "colab": {
          "base_uri": "https://localhost:8080/"
        }
      },
      "execution_count": null,
      "outputs": [
        {
          "output_type": "stream",
          "name": "stdout",
          "text": [
            "User: Hello\n",
            "categorize_and_analyze_sentiment node is working\n",
            "Category: General\n",
            "Sentiment: Neutral\n",
            "Assistant: Hello! How can I help you today?\n",
            "User: Why is the sky blue ?\n",
            "categorize_and_analyze_sentiment node is working\n",
            "Category: General\n",
            "Sentiment: Neutral\n",
            "Assistant: I understand your concern, but I'm here to help with customer support related questions. Could you please rephrase your query or ask a question related to our products or services?\n",
            "User: Where is my book order right now ?\n",
            "categorize_and_analyze_sentiment node is working\n",
            "Category: Delivery Status\n",
            "Sentiment: Neutral\n",
            "Assistant: Could you please provide the order ID, so I can check the delivery status for you?\n",
            "User: 90611\n",
            "categorize_and_analyze_sentiment node is working\n",
            "Category: General\n",
            "Sentiment: Neutral\n",
            "Assistant: \n",
            "ToolNode message: {'messages': [ToolMessage(content='Your order ID is 90611 - shipped.', name='get_order_update', id='58d6d323-467a-43f8-a506-c27190f51818', tool_call_id='a78371bb-61e2-4835-8121-e8b1c1b54db6')]}\n",
            "Assistant: Your order ID 90611 has been shipped.\n",
            "User: I received a damage mug in previous order\n",
            "categorize_and_analyze_sentiment node is working\n",
            "Category: Order Issues\n",
            "Sentiment: Negative\n",
            "Escalation: Escalated to human agent due to negative sentiment.\n",
            "User: exit\n",
            "Goodbye!\n"
          ]
        }
      ]
    },
    {
      "cell_type": "code",
      "source": [],
      "metadata": {
        "id": "DbeJ-dVCfXCD"
      },
      "execution_count": null,
      "outputs": []
    }
  ],
  "metadata": {
    "language_info": {
      "name": "python"
    },
    "colab": {
      "provenance": []
    },
    "kernelspec": {
      "name": "python3",
      "display_name": "Python 3"
    }
  },
  "nbformat": 4,
  "nbformat_minor": 0
}